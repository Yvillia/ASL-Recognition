{
 "cells": [
  {
   "cell_type": "code",
   "execution_count": 2,
   "metadata": {},
   "outputs": [],
   "source": [
    "import os\n",
    "import cv2"
   ]
  },
  {
   "cell_type": "code",
   "execution_count": 3,
   "metadata": {},
   "outputs": [],
   "source": [
    "# This Function Was Written By Mathew Farley\n",
    "def cameraScript():\n",
    "    key = cv2. waitKey(1)\n",
    "    webcam = cv2.VideoCapture(0)\n",
    "    while True:\n",
    "        try:\n",
    "            _, frame = webcam.read()\n",
    "            cv2.imshow(\"Capturing\", frame)\n",
    "            key = cv2.waitKey(1)\n",
    "            if key == 32: \n",
    "                cv2.imwrite(filename=os.path.join(os.getcwd(),'app/images/sign.jpg'), img=frame)\n",
    "                webcam.release()\n",
    "                #I believe this is the object below this line??\n",
    "                img = cv2.imread(os.path.join(os.getcwd(),'app/images/sign.jpg'), cv2.IMREAD_COLOR)\n",
    "                cv2.waitKey(1650)\n",
    "                cv2.destroyAllWindows()\n",
    "                cv2.imwrite(filename=os.path.join(os.getcwd(),'app/images/finalsign.jpg'), img=img_final)\n",
    "                \n",
    "                break\n",
    "            elif key == ord('q'):\n",
    "                print(\"Turning off camera.\")\n",
    "                webcam.release()\n",
    "                print(\"Camera off.\")\n",
    "                print(\"Program ended.\")\n",
    "                cv2.destroyAllWindows()\n",
    "                break\n",
    "            \n",
    "        except(KeyboardInterrupt):\n",
    "            print(\"Turning off camera.\")\n",
    "            webcam.release()\n",
    "            print(\"Camera off.\")\n",
    "            print(\"Program ended.\")\n",
    "            cv2.destroyAllWindows()\n",
    "            break"
   ]
  },
  {
   "cell_type": "code",
   "execution_count": 12,
   "metadata": {},
   "outputs": [],
   "source": [
    " cameraScript()"
   ]
  },
  {
   "cell_type": "code",
   "execution_count": null,
   "metadata": {},
   "outputs": [],
   "source": []
  }
 ],
 "metadata": {
  "kernelspec": {
   "display_name": "Python 3",
   "language": "python",
   "name": "python3"
  },
  "language_info": {
   "codemirror_mode": {
    "name": "ipython",
    "version": 3
   },
   "file_extension": ".py",
   "mimetype": "text/x-python",
   "name": "python",
   "nbconvert_exporter": "python",
   "pygments_lexer": "ipython3",
   "version": "3.7.3"
  }
 },
 "nbformat": 4,
 "nbformat_minor": 2
}
