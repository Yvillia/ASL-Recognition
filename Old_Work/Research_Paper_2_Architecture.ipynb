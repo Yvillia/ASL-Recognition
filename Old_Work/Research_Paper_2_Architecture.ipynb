{
 "cells": [
  {
   "cell_type": "code",
   "execution_count": 1,
   "metadata": {},
   "outputs": [],
   "source": [
    "# Libraries for building network\n",
    "import torch\n",
    "import torch.nn as nn\n",
    "import torch.nn.functional as F\n",
    "import torch.optim as optim\n",
    "\n",
    "# Libraries for dataset\n",
    "import torchvision\n",
    "import torchvision.transforms as transforms\n",
    "\n",
    "# Miscellaneous Libraries\n",
    "import time"
   ]
  },
  {
   "cell_type": "code",
   "execution_count": 3,
   "metadata": {},
   "outputs": [],
   "source": [
    "# Architecture as Given by the Paper\n",
    "class tutorial_model(nn.Module):\n",
    "    def __init__(self):\n",
    "        \"\"\" Initialize all layers of model \"\"\"\n",
    "        super(tutorial_model, self).__init__()\n",
    "        self.conv1 = nn.Conv2d(in_channels=3, out_channels=7, kernel_size=5)\n",
    "        self.conv2 = nn.Conv2d(in_channels=7, out_channels=11, kernel_size=5)\n",
    "        self.pool = nn.MaxPool2d(2, 2)\n",
    "        self.conv2_dropout = nn.Dropout()\n",
    "        \n",
    "        self.conv3 = nn.Conv2d(in_channels=11, out_channels=15, kernel_size=5)\n",
    "        self.conv4 = nn.Conv2d(in_channels=15, out_channels=19, kernel_size=5)\n",
    "        self.pool = nn.MaxPool2d(2, 2)\n",
    "        self.conv4_dropout = nn.Dropout()\n",
    "        \n",
    "        self.conv5 = nn.Conv2d(in_channels=19, out_channels=23, kernel_size=5)\n",
    "        self.conv6 = nn.Conv2d(in_channels=23, out_channels=27, kernel_size=5)\n",
    "        self.pool = nn.MaxPool2d(2, 2)\n",
    "        self.conv6_dropout = nn.Dropout()\n",
    "        \n",
    "        self.fc1 = nn.Linear(in_features=400, out_features=180)\n",
    "        self.fc1_dropout = nn.Dropout()\n",
    "        self.fc2 = nn.Linear(in_features=180, out_features=36)\n",
    "        self.fc2_dropout = nn.Dropout()\n",
    "        \n",
    "    def forward(self, x):\n",
    "        \"\"\" Chain all layers together \"\"\"\n",
    "        x = x.view(-1, 400)\n",
    "        \n",
    "        x = self.pool(F.relu(self.conv1(x)))\n",
    "        x = self.pool(F.relu(self.conv2(x)))\n",
    "        \n",
    "        x = self.pool(F.relu(self.conv3(x)))\n",
    "        x = self.pool(F.relu(self.conv4(x)))\n",
    "        \n",
    "        x = self.pool(F.relu(self.conv5(x)))\n",
    "        x = self.pool(F.relu(self.conv6(x)))        \n",
    "        \n",
    "        x = F.relu(self.fc1(x))\n",
    "        y = F.relu(self.fc2(x))\n",
    "        \n",
    "        return y"
   ]
  },
  {
   "cell_type": "code",
   "execution_count": null,
   "metadata": {},
   "outputs": [],
   "source": []
  }
 ],
 "metadata": {
  "kernelspec": {
   "display_name": "Python 3",
   "language": "python",
   "name": "python3"
  },
  "language_info": {
   "codemirror_mode": {
    "name": "ipython",
    "version": 3
   },
   "file_extension": ".py",
   "mimetype": "text/x-python",
   "name": "python",
   "nbconvert_exporter": "python",
   "pygments_lexer": "ipython3",
   "version": "3.7.3"
  }
 },
 "nbformat": 4,
 "nbformat_minor": 2
}
